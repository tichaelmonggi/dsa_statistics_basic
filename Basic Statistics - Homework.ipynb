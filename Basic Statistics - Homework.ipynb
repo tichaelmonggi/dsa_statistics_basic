{
 "cells": [
  {
   "cell_type": "markdown",
   "metadata": {},
   "source": [
    "# Homework of Basic Statistics for Data Science in Python\n",
    "Name: Michael Tonggi Situmorang\n",
    "<br> Date: 10 October 2019\n",
    "<br> email: michael_t_situmorang@telkomsel.co.id\n",
    "***"
   ]
  },
  {
   "cell_type": "markdown",
   "metadata": {},
   "source": [
    "## Import Modules"
   ]
  },
  {
   "cell_type": "code",
   "execution_count": 1,
   "metadata": {},
   "outputs": [],
   "source": [
    "import pandas as pd\n",
    "import numpy as np\n",
    "import statistics as st"
   ]
  },
  {
   "cell_type": "markdown",
   "metadata": {},
   "source": [
    "## Question 1"
   ]
  },
  {
   "cell_type": "markdown",
   "metadata": {},
   "source": [
    "### 1. Load googleplaystore_user_reviews.csv file from dataset folder, and assign it as df_review.  "
   ]
  },
  {
   "cell_type": "code",
   "execution_count": 5,
   "metadata": {},
   "outputs": [],
   "source": [
    "df_review = pd.read_csv('googleplaystore_user_reviews.csv', encoding = 'utf-8')"
   ]
  },
  {
   "cell_type": "markdown",
   "metadata": {},
   "source": [
    "### 2. How many rows and columns for df_review?"
   ]
  },
  {
   "cell_type": "code",
   "execution_count": 7,
   "metadata": {},
   "outputs": [
    {
     "name": "stdout",
     "output_type": "stream",
     "text": [
      "Number of Rows: 64295\n",
      "Number of Columns: 5\n"
     ]
    }
   ],
   "source": [
    "#row\n",
    "print(\"Number of Rows:\",len(df_review))\n",
    "\n",
    "#column\n",
    "print(\"Number of Columns:\",len(df_review.columns))"
   ]
  },
  {
   "cell_type": "markdown",
   "metadata": {},
   "source": [
    "### 3. How many NaN value in dataset for Translated_Review column?"
   ]
  },
  {
   "cell_type": "code",
   "execution_count": 8,
   "metadata": {},
   "outputs": [
    {
     "data": {
      "text/plain": [
       "App                           0\n",
       "Translated_Review         26868\n",
       "Sentiment                 26863\n",
       "Sentiment_Polarity        26863\n",
       "Sentiment_Subjectivity    26863\n",
       "dtype: int64"
      ]
     },
     "execution_count": 8,
     "metadata": {},
     "output_type": "execute_result"
    }
   ],
   "source": [
    "df_review.isnull().sum()"
   ]
  },
  {
   "cell_type": "markdown",
   "metadata": {},
   "source": [
    "### 4. Perform drop all NaN values and assign as new data frame named df_rev_clean"
   ]
  },
  {
   "cell_type": "code",
   "execution_count": 10,
   "metadata": {},
   "outputs": [],
   "source": [
    "df_rev_clean = df_review.dropna()"
   ]
  },
  {
   "cell_type": "code",
   "execution_count": 11,
   "metadata": {},
   "outputs": [
    {
     "data": {
      "text/plain": [
       "App                       0\n",
       "Translated_Review         0\n",
       "Sentiment                 0\n",
       "Sentiment_Polarity        0\n",
       "Sentiment_Subjectivity    0\n",
       "dtype: int64"
      ]
     },
     "execution_count": 11,
     "metadata": {},
     "output_type": "execute_result"
    }
   ],
   "source": [
    "df_rev_clean.isnull().sum()"
   ]
  },
  {
   "cell_type": "markdown",
   "metadata": {},
   "source": [
    "### 5. Upon dropping NaN, how many rows and columns remaining?"
   ]
  },
  {
   "cell_type": "code",
   "execution_count": 12,
   "metadata": {},
   "outputs": [
    {
     "name": "stdout",
     "output_type": "stream",
     "text": [
      "Number of Rows: 37427\n",
      "Number of Columns: 5\n"
     ]
    }
   ],
   "source": [
    "#row\n",
    "print(\"Number of Rows:\",len(df_rev_clean))\n",
    "\n",
    "#column\n",
    "print(\"Number of Columns:\",len(df_rev_clean.columns))"
   ]
  },
  {
   "cell_type": "markdown",
   "metadata": {},
   "source": [
    "## Question 2"
   ]
  },
  {
   "cell_type": "markdown",
   "metadata": {},
   "source": [
    "### 6. Perform simple random sampling with only 3 sample towards df_rev_clean with random_state=10 without replacement. "
   ]
  },
  {
   "cell_type": "code",
   "execution_count": 16,
   "metadata": {},
   "outputs": [
    {
     "data": {
      "text/html": [
       "<div>\n",
       "<style scoped>\n",
       "    .dataframe tbody tr th:only-of-type {\n",
       "        vertical-align: middle;\n",
       "    }\n",
       "\n",
       "    .dataframe tbody tr th {\n",
       "        vertical-align: top;\n",
       "    }\n",
       "\n",
       "    .dataframe thead th {\n",
       "        text-align: right;\n",
       "    }\n",
       "</style>\n",
       "<table border=\"1\" class=\"dataframe\">\n",
       "  <thead>\n",
       "    <tr style=\"text-align: right;\">\n",
       "      <th></th>\n",
       "      <th>App</th>\n",
       "      <th>Translated_Review</th>\n",
       "      <th>Sentiment</th>\n",
       "      <th>Sentiment_Polarity</th>\n",
       "      <th>Sentiment_Subjectivity</th>\n",
       "    </tr>\n",
       "  </thead>\n",
       "  <tbody>\n",
       "    <tr>\n",
       "      <th>12028</th>\n",
       "      <td>Badoo - Free Chat &amp; Dating App</td>\n",
       "      <td>Rubbish app.</td>\n",
       "      <td>Neutral</td>\n",
       "      <td>0.0</td>\n",
       "      <td>0.0</td>\n",
       "    </tr>\n",
       "    <tr>\n",
       "      <th>35092</th>\n",
       "      <td>Docs To Go™ Free Office Suite</td>\n",
       "      <td>Very lite app..</td>\n",
       "      <td>Positive</td>\n",
       "      <td>0.2</td>\n",
       "      <td>0.3</td>\n",
       "    </tr>\n",
       "    <tr>\n",
       "      <th>48816</th>\n",
       "      <td>Free &amp; Premium VPN - FinchVPN</td>\n",
       "      <td>Nice, works Android 8</td>\n",
       "      <td>Positive</td>\n",
       "      <td>0.6</td>\n",
       "      <td>1.0</td>\n",
       "    </tr>\n",
       "  </tbody>\n",
       "</table>\n",
       "</div>"
      ],
      "text/plain": [
       "                                  App      Translated_Review Sentiment  \\\n",
       "12028  Badoo - Free Chat & Dating App           Rubbish app.   Neutral   \n",
       "35092   Docs To Go™ Free Office Suite        Very lite app..  Positive   \n",
       "48816   Free & Premium VPN - FinchVPN  Nice, works Android 8  Positive   \n",
       "\n",
       "       Sentiment_Polarity  Sentiment_Subjectivity  \n",
       "12028                 0.0                     0.0  \n",
       "35092                 0.2                     0.3  \n",
       "48816                 0.6                     1.0  "
      ]
     },
     "execution_count": 16,
     "metadata": {},
     "output_type": "execute_result"
    }
   ],
   "source": [
    "df_rev_clean.sample(n=3, random_state = 10, replace = False)"
   ]
  },
  {
   "cell_type": "markdown",
   "metadata": {},
   "source": [
    "### 7. Perform stratified random sampling for each sentiment (Neutral, Positive, and Negative) \n",
    "with the following conditions:\n",
    "<br>10 sample size per strata/group\n",
    "<br>random state = 10\n",
    "<br>without replacement\n",
    "<br>assign as df_sample dataframe "
   ]
  },
  {
   "cell_type": "code",
   "execution_count": 22,
   "metadata": {},
   "outputs": [],
   "source": [
    "fn = lambda x: x.sample(10, random_state=10, replace=False)\n",
    "df_sample = df_rev_clean.groupby('Sentiment', as_index=False).apply(fn)"
   ]
  },
  {
   "cell_type": "code",
   "execution_count": 23,
   "metadata": {},
   "outputs": [
    {
     "data": {
      "text/html": [
       "<div>\n",
       "<style scoped>\n",
       "    .dataframe tbody tr th:only-of-type {\n",
       "        vertical-align: middle;\n",
       "    }\n",
       "\n",
       "    .dataframe tbody tr th {\n",
       "        vertical-align: top;\n",
       "    }\n",
       "\n",
       "    .dataframe thead th {\n",
       "        text-align: right;\n",
       "    }\n",
       "</style>\n",
       "<table border=\"1\" class=\"dataframe\">\n",
       "  <thead>\n",
       "    <tr style=\"text-align: right;\">\n",
       "      <th></th>\n",
       "      <th></th>\n",
       "      <th>App</th>\n",
       "      <th>Translated_Review</th>\n",
       "      <th>Sentiment</th>\n",
       "      <th>Sentiment_Polarity</th>\n",
       "      <th>Sentiment_Subjectivity</th>\n",
       "    </tr>\n",
       "  </thead>\n",
       "  <tbody>\n",
       "    <tr>\n",
       "      <th rowspan=\"10\" valign=\"top\">0</th>\n",
       "      <th>24841</th>\n",
       "      <td>Cat Sim Online: Play with Cats</td>\n",
       "      <td>So multiplayer game name, like server about, a...</td>\n",
       "      <td>Negative</td>\n",
       "      <td>-0.350000</td>\n",
       "      <td>0.400000</td>\n",
       "    </tr>\n",
       "    <tr>\n",
       "      <th>708</th>\n",
       "      <td>30 Day Fitness Challenge - Workout at Home</td>\n",
       "      <td>I hate forces exercise everyday.</td>\n",
       "      <td>Negative</td>\n",
       "      <td>-0.500000</td>\n",
       "      <td>0.750000</td>\n",
       "    </tr>\n",
       "    <tr>\n",
       "      <th>1610</th>\n",
       "      <td>8fit Workouts &amp; Meal Planner</td>\n",
       "      <td>After two days using app, simply stopped worki...</td>\n",
       "      <td>Negative</td>\n",
       "      <td>-0.062500</td>\n",
       "      <td>0.339286</td>\n",
       "    </tr>\n",
       "    <tr>\n",
       "      <th>7306</th>\n",
       "      <td>Anger of stick 5 : zombie</td>\n",
       "      <td>Its really cool game keeps engaged</td>\n",
       "      <td>Negative</td>\n",
       "      <td>-0.025000</td>\n",
       "      <td>0.525000</td>\n",
       "    </tr>\n",
       "    <tr>\n",
       "      <th>5843</th>\n",
       "      <td>All Social Networks</td>\n",
       "      <td>Dumb fb</td>\n",
       "      <td>Negative</td>\n",
       "      <td>-0.375000</td>\n",
       "      <td>0.500000</td>\n",
       "    </tr>\n",
       "    <tr>\n",
       "      <th>40863</th>\n",
       "      <td>Etsy: Handmade &amp; Vintage Goods</td>\n",
       "      <td>Works wants i'm sick message Uh oh problem Try...</td>\n",
       "      <td>Negative</td>\n",
       "      <td>-0.257143</td>\n",
       "      <td>0.478571</td>\n",
       "    </tr>\n",
       "    <tr>\n",
       "      <th>21756</th>\n",
       "      <td>Calorie Counter - Macros</td>\n",
       "      <td>'search online' simply work, freezes time I tr...</td>\n",
       "      <td>Negative</td>\n",
       "      <td>-0.033333</td>\n",
       "      <td>0.426190</td>\n",
       "    </tr>\n",
       "    <tr>\n",
       "      <th>62024</th>\n",
       "      <td>Hill Climb Racing</td>\n",
       "      <td>Why link contact idiots designed game? There s...</td>\n",
       "      <td>Negative</td>\n",
       "      <td>-0.183333</td>\n",
       "      <td>0.254167</td>\n",
       "    </tr>\n",
       "    <tr>\n",
       "      <th>13237</th>\n",
       "      <td>Be A Legend: Soccer</td>\n",
       "      <td>Sick This game makes sick work everything acco...</td>\n",
       "      <td>Negative</td>\n",
       "      <td>-0.282143</td>\n",
       "      <td>0.678571</td>\n",
       "    </tr>\n",
       "    <tr>\n",
       "      <th>35864</th>\n",
       "      <td>DoorDash - Food Delivery</td>\n",
       "      <td>At beginning fine, longer I it, worse gotten. ...</td>\n",
       "      <td>Negative</td>\n",
       "      <td>-0.129167</td>\n",
       "      <td>0.600000</td>\n",
       "    </tr>\n",
       "    <tr>\n",
       "      <th rowspan=\"10\" valign=\"top\">1</th>\n",
       "      <th>20166</th>\n",
       "      <td>CM Locker - Security Lockscreen</td>\n",
       "      <td>I like everytime I unlock phone there's passwo...</td>\n",
       "      <td>Neutral</td>\n",
       "      <td>0.000000</td>\n",
       "      <td>0.000000</td>\n",
       "    </tr>\n",
       "    <tr>\n",
       "      <th>39188</th>\n",
       "      <td>EatStreet Food Delivery App</td>\n",
       "      <td>I always visiting Greensboro</td>\n",
       "      <td>Neutral</td>\n",
       "      <td>0.000000</td>\n",
       "      <td>0.000000</td>\n",
       "    </tr>\n",
       "    <tr>\n",
       "      <th>3946</th>\n",
       "      <td>AdWords Express</td>\n",
       "      <td>opens 1st time reinstall again.</td>\n",
       "      <td>Neutral</td>\n",
       "      <td>0.000000</td>\n",
       "      <td>0.000000</td>\n",
       "    </tr>\n",
       "    <tr>\n",
       "      <th>58761</th>\n",
       "      <td>HESI A2 Pocket Prep</td>\n",
       "      <td>Helped lot</td>\n",
       "      <td>Neutral</td>\n",
       "      <td>0.000000</td>\n",
       "      <td>0.000000</td>\n",
       "    </tr>\n",
       "    <tr>\n",
       "      <th>57798</th>\n",
       "      <td>Grubhub: Food Delivery</td>\n",
       "      <td>Won't stop asking rate despite saying \"Never\"</td>\n",
       "      <td>Neutral</td>\n",
       "      <td>0.000000</td>\n",
       "      <td>0.000000</td>\n",
       "    </tr>\n",
       "    <tr>\n",
       "      <th>51880</th>\n",
       "      <td>GUNSHIP BATTLE: Helicopter 3D</td>\n",
       "      <td>Won't start Essential PH-1</td>\n",
       "      <td>Neutral</td>\n",
       "      <td>0.000000</td>\n",
       "      <td>0.300000</td>\n",
       "    </tr>\n",
       "    <tr>\n",
       "      <th>57524</th>\n",
       "      <td>Graphing Calculator</td>\n",
       "      <td>Does job.</td>\n",
       "      <td>Neutral</td>\n",
       "      <td>0.000000</td>\n",
       "      <td>0.000000</td>\n",
       "    </tr>\n",
       "    <tr>\n",
       "      <th>4665</th>\n",
       "      <td>Agar.io</td>\n",
       "      <td>The updates even work Android phones . No matt...</td>\n",
       "      <td>Neutral</td>\n",
       "      <td>0.000000</td>\n",
       "      <td>0.000000</td>\n",
       "    </tr>\n",
       "    <tr>\n",
       "      <th>61204</th>\n",
       "      <td>Hello Stars</td>\n",
       "      <td>Heh</td>\n",
       "      <td>Neutral</td>\n",
       "      <td>0.000000</td>\n",
       "      <td>0.000000</td>\n",
       "    </tr>\n",
       "    <tr>\n",
       "      <th>63490</th>\n",
       "      <td>Horoscopes – Daily Zodiac Horoscope and Astrology</td>\n",
       "      <td>helpful</td>\n",
       "      <td>Neutral</td>\n",
       "      <td>0.000000</td>\n",
       "      <td>0.000000</td>\n",
       "    </tr>\n",
       "    <tr>\n",
       "      <th rowspan=\"10\" valign=\"top\">2</th>\n",
       "      <th>23971</th>\n",
       "      <td>Candy selfie - photo editor, live filter camera</td>\n",
       "      <td>Great</td>\n",
       "      <td>Positive</td>\n",
       "      <td>0.800000</td>\n",
       "      <td>0.750000</td>\n",
       "    </tr>\n",
       "    <tr>\n",
       "      <th>32236</th>\n",
       "      <td>DIY Garden Ideas</td>\n",
       "      <td>It great ideas garden</td>\n",
       "      <td>Positive</td>\n",
       "      <td>0.800000</td>\n",
       "      <td>0.750000</td>\n",
       "    </tr>\n",
       "    <tr>\n",
       "      <th>54471</th>\n",
       "      <td>Golf GPS Rangefinder: Golf Pad</td>\n",
       "      <td>Nice app, efficient scoring entry. Love \"fly\" ...</td>\n",
       "      <td>Positive</td>\n",
       "      <td>0.633333</td>\n",
       "      <td>0.833333</td>\n",
       "    </tr>\n",
       "    <tr>\n",
       "      <th>43672</th>\n",
       "      <td>Family Locator - GPS Tracker</td>\n",
       "      <td>I love app. One problem members often circle t...</td>\n",
       "      <td>Positive</td>\n",
       "      <td>0.500000</td>\n",
       "      <td>0.600000</td>\n",
       "    </tr>\n",
       "    <tr>\n",
       "      <th>40723</th>\n",
       "      <td>Essential Anatomy 3</td>\n",
       "      <td>It's OK get Version 3 Samsung. Honestly first ...</td>\n",
       "      <td>Positive</td>\n",
       "      <td>0.290000</td>\n",
       "      <td>0.506667</td>\n",
       "    </tr>\n",
       "    <tr>\n",
       "      <th>22104</th>\n",
       "      <td>Calorie Counter - MyFitnessPal</td>\n",
       "      <td>Overall good app. I wish favorites split meals...</td>\n",
       "      <td>Positive</td>\n",
       "      <td>0.216667</td>\n",
       "      <td>0.504167</td>\n",
       "    </tr>\n",
       "    <tr>\n",
       "      <th>16355</th>\n",
       "      <td>Blood Pressure Log - MyDiary</td>\n",
       "      <td>This easy use, I love importantly, Dr. Is happ...</td>\n",
       "      <td>Positive</td>\n",
       "      <td>0.688889</td>\n",
       "      <td>0.863889</td>\n",
       "    </tr>\n",
       "    <tr>\n",
       "      <th>12836</th>\n",
       "      <td>Baritastic - Bariatric Tracker</td>\n",
       "      <td>Very good tracking protein</td>\n",
       "      <td>Positive</td>\n",
       "      <td>0.910000</td>\n",
       "      <td>0.780000</td>\n",
       "    </tr>\n",
       "    <tr>\n",
       "      <th>49385</th>\n",
       "      <td>Free Foreclosure Real Estate Search by USHUD.com</td>\n",
       "      <td>I could possibly get slow image loading I leas...</td>\n",
       "      <td>Positive</td>\n",
       "      <td>0.215000</td>\n",
       "      <td>0.554167</td>\n",
       "    </tr>\n",
       "    <tr>\n",
       "      <th>49770</th>\n",
       "      <td>Free phone calls, free texting SMS on free number</td>\n",
       "      <td>Don't it!This asks real number. Since I instal...</td>\n",
       "      <td>Positive</td>\n",
       "      <td>0.150000</td>\n",
       "      <td>0.350000</td>\n",
       "    </tr>\n",
       "  </tbody>\n",
       "</table>\n",
       "</div>"
      ],
      "text/plain": [
       "                                                       App  \\\n",
       "0 24841                     Cat Sim Online: Play with Cats   \n",
       "  708           30 Day Fitness Challenge - Workout at Home   \n",
       "  1610                        8fit Workouts & Meal Planner   \n",
       "  7306                           Anger of stick 5 : zombie   \n",
       "  5843                                 All Social Networks   \n",
       "  40863                     Etsy: Handmade & Vintage Goods   \n",
       "  21756                           Calorie Counter - Macros   \n",
       "  62024                                  Hill Climb Racing   \n",
       "  13237                                Be A Legend: Soccer   \n",
       "  35864                           DoorDash - Food Delivery   \n",
       "1 20166                    CM Locker - Security Lockscreen   \n",
       "  39188                        EatStreet Food Delivery App   \n",
       "  3946                                     AdWords Express   \n",
       "  58761                                HESI A2 Pocket Prep   \n",
       "  57798                             Grubhub: Food Delivery   \n",
       "  51880                      GUNSHIP BATTLE: Helicopter 3D   \n",
       "  57524                                Graphing Calculator   \n",
       "  4665                                             Agar.io   \n",
       "  61204                                        Hello Stars   \n",
       "  63490  Horoscopes – Daily Zodiac Horoscope and Astrology   \n",
       "2 23971    Candy selfie - photo editor, live filter camera   \n",
       "  32236                                   DIY Garden Ideas   \n",
       "  54471                     Golf GPS Rangefinder: Golf Pad   \n",
       "  43672                       Family Locator - GPS Tracker   \n",
       "  40723                                Essential Anatomy 3   \n",
       "  22104                     Calorie Counter - MyFitnessPal   \n",
       "  16355                       Blood Pressure Log - MyDiary   \n",
       "  12836                     Baritastic - Bariatric Tracker   \n",
       "  49385   Free Foreclosure Real Estate Search by USHUD.com   \n",
       "  49770  Free phone calls, free texting SMS on free number   \n",
       "\n",
       "                                         Translated_Review Sentiment  \\\n",
       "0 24841  So multiplayer game name, like server about, a...  Negative   \n",
       "  708                     I hate forces exercise everyday.  Negative   \n",
       "  1610   After two days using app, simply stopped worki...  Negative   \n",
       "  7306                  Its really cool game keeps engaged  Negative   \n",
       "  5843                                             Dumb fb  Negative   \n",
       "  40863  Works wants i'm sick message Uh oh problem Try...  Negative   \n",
       "  21756  'search online' simply work, freezes time I tr...  Negative   \n",
       "  62024  Why link contact idiots designed game? There s...  Negative   \n",
       "  13237  Sick This game makes sick work everything acco...  Negative   \n",
       "  35864  At beginning fine, longer I it, worse gotten. ...  Negative   \n",
       "1 20166  I like everytime I unlock phone there's passwo...   Neutral   \n",
       "  39188                       I always visiting Greensboro   Neutral   \n",
       "  3946                     opens 1st time reinstall again.   Neutral   \n",
       "  58761                                         Helped lot   Neutral   \n",
       "  57798      Won't stop asking rate despite saying \"Never\"   Neutral   \n",
       "  51880                         Won't start Essential PH-1   Neutral   \n",
       "  57524                                          Does job.   Neutral   \n",
       "  4665   The updates even work Android phones . No matt...   Neutral   \n",
       "  61204                                                Heh   Neutral   \n",
       "  63490                                            helpful   Neutral   \n",
       "2 23971                                              Great  Positive   \n",
       "  32236                              It great ideas garden  Positive   \n",
       "  54471  Nice app, efficient scoring entry. Love \"fly\" ...  Positive   \n",
       "  43672  I love app. One problem members often circle t...  Positive   \n",
       "  40723  It's OK get Version 3 Samsung. Honestly first ...  Positive   \n",
       "  22104  Overall good app. I wish favorites split meals...  Positive   \n",
       "  16355  This easy use, I love importantly, Dr. Is happ...  Positive   \n",
       "  12836                         Very good tracking protein  Positive   \n",
       "  49385  I could possibly get slow image loading I leas...  Positive   \n",
       "  49770  Don't it!This asks real number. Since I instal...  Positive   \n",
       "\n",
       "         Sentiment_Polarity  Sentiment_Subjectivity  \n",
       "0 24841           -0.350000                0.400000  \n",
       "  708             -0.500000                0.750000  \n",
       "  1610            -0.062500                0.339286  \n",
       "  7306            -0.025000                0.525000  \n",
       "  5843            -0.375000                0.500000  \n",
       "  40863           -0.257143                0.478571  \n",
       "  21756           -0.033333                0.426190  \n",
       "  62024           -0.183333                0.254167  \n",
       "  13237           -0.282143                0.678571  \n",
       "  35864           -0.129167                0.600000  \n",
       "1 20166            0.000000                0.000000  \n",
       "  39188            0.000000                0.000000  \n",
       "  3946             0.000000                0.000000  \n",
       "  58761            0.000000                0.000000  \n",
       "  57798            0.000000                0.000000  \n",
       "  51880            0.000000                0.300000  \n",
       "  57524            0.000000                0.000000  \n",
       "  4665             0.000000                0.000000  \n",
       "  61204            0.000000                0.000000  \n",
       "  63490            0.000000                0.000000  \n",
       "2 23971            0.800000                0.750000  \n",
       "  32236            0.800000                0.750000  \n",
       "  54471            0.633333                0.833333  \n",
       "  43672            0.500000                0.600000  \n",
       "  40723            0.290000                0.506667  \n",
       "  22104            0.216667                0.504167  \n",
       "  16355            0.688889                0.863889  \n",
       "  12836            0.910000                0.780000  \n",
       "  49385            0.215000                0.554167  \n",
       "  49770            0.150000                0.350000  "
      ]
     },
     "execution_count": 23,
     "metadata": {},
     "output_type": "execute_result"
    }
   ],
   "source": [
    "df_sample"
   ]
  },
  {
   "cell_type": "markdown",
   "metadata": {},
   "source": [
    "## Question 3 "
   ]
  },
  {
   "cell_type": "markdown",
   "metadata": {},
   "source": [
    "### 8. The mode value of Sentiment from df_rev_clean data frame is"
   ]
  },
  {
   "cell_type": "code",
   "execution_count": 28,
   "metadata": {},
   "outputs": [
    {
     "data": {
      "text/plain": [
       "'Positive'"
      ]
     },
     "execution_count": 28,
     "metadata": {},
     "output_type": "execute_result"
    }
   ],
   "source": [
    "st.mode(df_rev_clean.Sentiment)"
   ]
  },
  {
   "cell_type": "markdown",
   "metadata": {},
   "source": [
    "### 9. What is the mode value of Sentiment on df_sample data frame? Why error popped up?"
   ]
  },
  {
   "cell_type": "code",
   "execution_count": 26,
   "metadata": {},
   "outputs": [
    {
     "ename": "StatisticsError",
     "evalue": "no unique mode; found 3 equally common values",
     "output_type": "error",
     "traceback": [
      "\u001b[1;31m---------------------------------------------------------------------------\u001b[0m",
      "\u001b[1;31mStatisticsError\u001b[0m                           Traceback (most recent call last)",
      "\u001b[1;32m<ipython-input-26-4820498daf5a>\u001b[0m in \u001b[0;36m<module>\u001b[1;34m\u001b[0m\n\u001b[1;32m----> 1\u001b[1;33m \u001b[0mst\u001b[0m\u001b[1;33m.\u001b[0m\u001b[0mmode\u001b[0m\u001b[1;33m(\u001b[0m\u001b[0mdf_sample\u001b[0m\u001b[1;33m.\u001b[0m\u001b[0mSentiment\u001b[0m\u001b[1;33m)\u001b[0m\u001b[1;33m\u001b[0m\u001b[1;33m\u001b[0m\u001b[0m\n\u001b[0m",
      "\u001b[1;32m~\\AppData\\Local\\Continuum\\anaconda3\\lib\\statistics.py\u001b[0m in \u001b[0;36mmode\u001b[1;34m(data)\u001b[0m\n\u001b[0;32m    504\u001b[0m     \u001b[1;32melif\u001b[0m \u001b[0mtable\u001b[0m\u001b[1;33m:\u001b[0m\u001b[1;33m\u001b[0m\u001b[1;33m\u001b[0m\u001b[0m\n\u001b[0;32m    505\u001b[0m         raise StatisticsError(\n\u001b[1;32m--> 506\u001b[1;33m                 \u001b[1;34m'no unique mode; found %d equally common values'\u001b[0m \u001b[1;33m%\u001b[0m \u001b[0mlen\u001b[0m\u001b[1;33m(\u001b[0m\u001b[0mtable\u001b[0m\u001b[1;33m)\u001b[0m\u001b[1;33m\u001b[0m\u001b[1;33m\u001b[0m\u001b[0m\n\u001b[0m\u001b[0;32m    507\u001b[0m                 )\n\u001b[0;32m    508\u001b[0m     \u001b[1;32melse\u001b[0m\u001b[1;33m:\u001b[0m\u001b[1;33m\u001b[0m\u001b[1;33m\u001b[0m\u001b[0m\n",
      "\u001b[1;31mStatisticsError\u001b[0m: no unique mode; found 3 equally common values"
     ]
    }
   ],
   "source": [
    "st.mode(df_sample.Sentiment)"
   ]
  },
  {
   "cell_type": "markdown",
   "metadata": {},
   "source": [
    "### 10. How many positive, negative, and neutral in Sentiment column of df_rev_clean data frame?"
   ]
  },
  {
   "cell_type": "code",
   "execution_count": 27,
   "metadata": {},
   "outputs": [
    {
     "data": {
      "text/plain": [
       "Positive    23998\n",
       "Negative     8271\n",
       "Neutral      5158\n",
       "Name: Sentiment, dtype: int64"
      ]
     },
     "execution_count": 27,
     "metadata": {},
     "output_type": "execute_result"
    }
   ],
   "source": [
    "df_rev_clean['Sentiment'].value_counts()"
   ]
  },
  {
   "cell_type": "markdown",
   "metadata": {},
   "source": [
    "### Question 4"
   ]
  },
  {
   "cell_type": "markdown",
   "metadata": {},
   "source": [
    "### 11. What is the mean value of sentiment_polarity and sentiment_subjectivity of 'Angry Birds Classic'? \n"
   ]
  },
  {
   "cell_type": "code",
   "execution_count": 29,
   "metadata": {},
   "outputs": [],
   "source": [
    "df_angry_bird_classic = df_rev_clean[df_rev_clean['App'].str.match('Angry Birds Classic')]"
   ]
  },
  {
   "cell_type": "code",
   "execution_count": 36,
   "metadata": {},
   "outputs": [
    {
     "data": {
      "text/plain": [
       "-0.0075373947642518166"
      ]
     },
     "execution_count": 36,
     "metadata": {},
     "output_type": "execute_result"
    }
   ],
   "source": [
    "st.mean(df_angry_bird_classic['Sentiment_Polarity'])"
   ]
  },
  {
   "cell_type": "code",
   "execution_count": 35,
   "metadata": {},
   "outputs": [
    {
     "data": {
      "text/plain": [
       "0.5348862663965559"
      ]
     },
     "execution_count": 35,
     "metadata": {},
     "output_type": "execute_result"
    }
   ],
   "source": [
    "st.mean(df_angry_bird_classic['Sentiment_Subjectivity'])"
   ]
  },
  {
   "cell_type": "markdown",
   "metadata": {},
   "source": [
    "### 12. How many Angry Birds Classic rows were included in df_rev_clean data frame?"
   ]
  },
  {
   "cell_type": "code",
   "execution_count": 39,
   "metadata": {},
   "outputs": [],
   "source": [
    "count_row = df_angry_bird_classic.shape[0]  # gives number of row count\n",
    "count_col = df_angry_bird_classic.shape[1]  # gives number of col count"
   ]
  },
  {
   "cell_type": "code",
   "execution_count": 42,
   "metadata": {},
   "outputs": [
    {
     "data": {
      "text/plain": [
       "273"
      ]
     },
     "execution_count": 42,
     "metadata": {},
     "output_type": "execute_result"
    }
   ],
   "source": [
    "count_row"
   ]
  },
  {
   "cell_type": "code",
   "execution_count": 43,
   "metadata": {},
   "outputs": [
    {
     "data": {
      "text/plain": [
       "5"
      ]
     },
     "execution_count": 43,
     "metadata": {},
     "output_type": "execute_result"
    }
   ],
   "source": [
    "count_col"
   ]
  },
  {
   "cell_type": "markdown",
   "metadata": {},
   "source": [
    "### 13. What is the median value of Sentiment Polarity of 'Candy Crush Saga'?"
   ]
  },
  {
   "cell_type": "code",
   "execution_count": 45,
   "metadata": {},
   "outputs": [],
   "source": [
    "df_candy_crush_saga = df_rev_clean[df_rev_clean['App'].str.match('Candy Crush Saga')]"
   ]
  },
  {
   "cell_type": "code",
   "execution_count": 48,
   "metadata": {},
   "outputs": [
    {
     "data": {
      "text/plain": [
       "-0.01102272727272727"
      ]
     },
     "execution_count": 48,
     "metadata": {},
     "output_type": "execute_result"
    }
   ],
   "source": [
    "st.median(df_candy_crush_saga['Sentiment_Polarity'])"
   ]
  },
  {
   "cell_type": "markdown",
   "metadata": {},
   "source": [
    "### 14. What is the mode value of App in the df_rev_clean data frame?"
   ]
  },
  {
   "cell_type": "code",
   "execution_count": 49,
   "metadata": {},
   "outputs": [
    {
     "data": {
      "text/plain": [
       "'Bowmasters'"
      ]
     },
     "execution_count": 49,
     "metadata": {},
     "output_type": "execute_result"
    }
   ],
   "source": [
    "st.mode(df_rev_clean.App)"
   ]
  },
  {
   "cell_type": "markdown",
   "metadata": {},
   "source": [
    "### 15. What is the correlation value between Sentiment Polarity and Sentiment Subjectivity?\n",
    "using spearman, pearson, and kendall"
   ]
  },
  {
   "cell_type": "code",
   "execution_count": 53,
   "metadata": {},
   "outputs": [
    {
     "data": {
      "text/plain": [
       "0.35152164004600445"
      ]
     },
     "execution_count": 53,
     "metadata": {},
     "output_type": "execute_result"
    }
   ],
   "source": [
    "df_rev_clean['Sentiment_Polarity'].corr(df_rev_clean['Sentiment_Subjectivity'], method='spearman')"
   ]
  },
  {
   "cell_type": "code",
   "execution_count": 54,
   "metadata": {},
   "outputs": [
    {
     "data": {
      "text/plain": [
       "0.26158727977851337"
      ]
     },
     "execution_count": 54,
     "metadata": {},
     "output_type": "execute_result"
    }
   ],
   "source": [
    "df_rev_clean['Sentiment_Polarity'].corr(df_rev_clean['Sentiment_Subjectivity'], method='pearson')"
   ]
  },
  {
   "cell_type": "code",
   "execution_count": 55,
   "metadata": {},
   "outputs": [
    {
     "data": {
      "text/plain": [
       "0.2599730772559857"
      ]
     },
     "execution_count": 55,
     "metadata": {},
     "output_type": "execute_result"
    }
   ],
   "source": [
    "df_rev_clean['Sentiment_Polarity'].corr(df_rev_clean['Sentiment_Subjectivity'], method='kendall')"
   ]
  }
 ],
 "metadata": {
  "kernelspec": {
   "display_name": "Python 3",
   "language": "python",
   "name": "python3"
  },
  "language_info": {
   "codemirror_mode": {
    "name": "ipython",
    "version": 3
   },
   "file_extension": ".py",
   "mimetype": "text/x-python",
   "name": "python",
   "nbconvert_exporter": "python",
   "pygments_lexer": "ipython3",
   "version": "3.7.3"
  }
 },
 "nbformat": 4,
 "nbformat_minor": 2
}
